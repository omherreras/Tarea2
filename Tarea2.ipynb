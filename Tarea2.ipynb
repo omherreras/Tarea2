{
  "nbformat": 4,
  "nbformat_minor": 0,
  "metadata": {
    "colab": {
      "name": "Untitled3.ipynb",
      "provenance": [],
      "mount_file_id": "1iY4K9dl9a6ShFqSE09dprttq203MOa07",
      "authorship_tag": "ABX9TyPR5qUMKkwyip6ClpAFRi4y",
      "include_colab_link": true
    },
    "kernelspec": {
      "name": "python3",
      "display_name": "Python 3"
    },
    "language_info": {
      "name": "python"
    }
  },
  "cells": [
    {
      "cell_type": "markdown",
      "metadata": {
        "id": "view-in-github",
        "colab_type": "text"
      },
      "source": [
        "<a href=\"https://colab.research.google.com/github/omherreras/Tarea2/blob/main/Tarea2.ipynb\" target=\"_parent\"><img src=\"https://colab.research.google.com/assets/colab-badge.svg\" alt=\"Open In Colab\"/></a>"
      ]
    },
    {
      "cell_type": "code",
      "metadata": {
        "id": "yoCLbEhWVhAf"
      },
      "source": [
        "system(\"gdown --id /content/drive/MyDrive/BD_Tarea2_Problema1.csv\")\n",
        "\n",
        "https://github.com/omherreras/Tarea2"
      ],
      "execution_count": null,
      "outputs": []
    }
  ]
}